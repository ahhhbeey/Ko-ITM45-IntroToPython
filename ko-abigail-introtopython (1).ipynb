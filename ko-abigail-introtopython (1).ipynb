{
 "cells": [
  {
   "cell_type": "code",
   "execution_count": null,
   "metadata": {},
   "outputs": [],
   "source": [
    "185602\n",
    "Ko\n",
    "3 BS ITE"
   ]
  },
  {
   "cell_type": "code",
   "execution_count": 10,
   "metadata": {},
   "outputs": [
    {
     "name": "stdout",
     "output_type": "stream",
     "text": [
      "Enter first number:12\n",
      "Enter second number:13\n",
      "Enter third number:5\n"
     ]
    }
   ],
   "source": [
    "firstnumber = input('Enter first number: ')\n",
    "secondnumber = input('Enter second number: ')\n",
    "thirdnumber = input('Enter third number: ')\n",
    "\n",
    "def three_number_average():\n",
    "    added = float(firstnumber) + float(secondnumber) + float(thirdnumber)\n",
    "    average = added/3\n",
    "    print(\"The average is\", average)"
   ]
  },
  {
   "cell_type": "code",
   "execution_count": 11,
   "metadata": {},
   "outputs": [
    {
     "name": "stdout",
     "output_type": "stream",
     "text": [
      "The average is 10.0\n"
     ]
    }
   ],
   "source": [
    "three_number_average()"
   ]
  }
 ],
 "metadata": {
  "kernelspec": {
   "display_name": "Python 3",
   "language": "python",
   "name": "python3"
  },
  "language_info": {
   "codemirror_mode": {
    "name": "ipython",
    "version": 3
   },
   "file_extension": ".py",
   "mimetype": "text/x-python",
   "name": "python",
   "nbconvert_exporter": "python",
   "pygments_lexer": "ipython3",
   "version": "3.8.3"
  }
 },
 "nbformat": 4,
 "nbformat_minor": 4
}
